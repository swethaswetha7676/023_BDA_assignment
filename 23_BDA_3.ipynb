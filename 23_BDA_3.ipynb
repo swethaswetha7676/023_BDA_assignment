{
  "nbformat": 4,
  "nbformat_minor": 0,
  "metadata": {
    "colab": {
      "provenance": [],
      "authorship_tag": "ABX9TyMe8noBGCAkjInjmY4J1WlT",
      "include_colab_link": true
    },
    "kernelspec": {
      "name": "python3",
      "display_name": "Python 3"
    },
    "language_info": {
      "name": "python"
    }
  },
  "cells": [
    {
      "cell_type": "markdown",
      "metadata": {
        "id": "view-in-github",
        "colab_type": "text"
      },
      "source": [
        "<a href=\"https://colab.research.google.com/github/swethaswetha7676/023_BDA_assignment/blob/main/23_BDA_3.ipynb\" target=\"_parent\"><img src=\"https://colab.research.google.com/assets/colab-badge.svg\" alt=\"Open In Colab\"/></a>"
      ]
    },
    {
      "cell_type": "markdown",
      "source": [
        "# ***Build a Recommendation Engine with Spark with a dataset of your choice***"
      ],
      "metadata": {
        "id": "kaji-5ETwpTv"
      }
    },
    {
      "cell_type": "markdown",
      "source": [
        "Description:\n",
        "1. Import Tools\n",
        "We gather all the necessary tools like data readers, downloaders, and machine learning helpers.\n",
        "\n",
        "2. Start Spark Session\n",
        "We start a Spark engine, which is like opening a workspace where we’ll process the data.\n",
        "\n",
        "3. Download the Dataset\n",
        "We automatically download a movie ratings dataset (MovieLens) from the internet, so the user doesn’t have to do it manually.\n",
        "\n",
        "4. Load and Name the Data\n",
        "We load the downloaded data into Spark and give meaningful names to each column (like user ID, movie ID, rating, etc.).\n",
        "\n",
        "5. View the Data\n",
        "We take a quick look at the data to confirm it’s loaded correctly and understand what it contains.\n",
        "\n",
        "6. Train the Recommendation Model\n",
        "We use a special algorithm (ALS - Alternating Least Squares) to learn what kinds of movies each user likes based on their past ratings.\n",
        "\n",
        "7. Make Recommendations for Users\n",
        "The system gives a list of 10 movies it thinks each user will like the most.\n",
        "\n",
        "8. Make Recommendations for Movies\n",
        "For each movie, the system also finds 10 users who would most likely enjoy watching it.\n",
        "\n",
        "9. Predict a Specific Rating\n",
        "We check what rating a specific user might give to a specific movie they haven’t rated yet.\n",
        "\n",
        "10. Stop the Spark Session\n",
        "After everything is done, we close the Spark engine to free up resources."
      ],
      "metadata": {
        "id": "eD09_R0jZPo4"
      }
    },
    {
      "cell_type": "code",
      "source": [
        "import urllib.request\n",
        "import os\n",
        "from pyspark.sql import SparkSession\n",
        "from pyspark.ml.recommendation import ALS\n",
        "from pyspark.sql.functions import col"
      ],
      "metadata": {
        "id": "6-XPUT-2ad2z"
      },
      "execution_count": null,
      "outputs": []
    },
    {
      "cell_type": "code",
      "source": [
        "#Start Spark Session\n",
        "spark = SparkSession.builder.appName(\"MovieLensRecommendation\").getOrCreate()"
      ],
      "metadata": {
        "id": "vX7uTOt_ai2T"
      },
      "execution_count": null,
      "outputs": []
    },
    {
      "cell_type": "code",
      "source": [
        "# Download the dataset programmatically\n",
        "data_url = \"http://files.grouplens.org/datasets/movielens/ml-100k/u.data\"\n",
        "local_path = \"/tmp/u.data\"\n",
        "# Download if not already present\n",
        "if not os.path.exists(local_path):\n",
        "    urllib.request.urlretrieve(data_url, local_path)\n",
        "columns = [\"userId\", \"movieId\", \"rating\", \"timestamp\"]        # Define column names\n",
        "ratings_df = spark.read.csv(local_path, sep=\"\\t\", inferSchema=True, header=False)\n",
        "ratings_df = ratings_df.toDF(*columns)\n",
        "ratings_df.show(5)"
      ],
      "metadata": {
        "id": "cm4qb2GBapE-"
      },
      "execution_count": null,
      "outputs": []
    },
    {
      "cell_type": "code",
      "source": [
        "# Train ALS model\n",
        "als = ALS(\n",
        "    userCol=\"userId\",\n",
        "    itemCol=\"movieId\",\n",
        "    ratingCol=\"rating\",\n",
        "    coldStartStrategy=\"drop\",\n",
        "    nonnegative=True\n",
        ")\n",
        "\n",
        "model = als.fit(ratings_df)"
      ],
      "metadata": {
        "id": "Yu3C9sUGav1O"
      },
      "execution_count": null,
      "outputs": []
    },
    {
      "cell_type": "code",
      "source": [
        "user_recs = model.recommendForAllUsers(10)            # Recommend top 10 movies for each user\n",
        "user_recs.show(5, truncate=False)\n",
        "movie_recs = model.recommendForAllItems(10)           # Recommend top 10 users for each movie\n",
        "movie_recs.show(5, truncate=False)\n",
        "user_id = 1                                           # Make a prediction for a specific user and movie\n",
        "movie_id = 10\n",
        "user_movie_df = spark.createDataFrame([(user_id, movie_id)], [\"userId\", \"movieId\"])\n",
        "predicted_rating = model.transform(user_movie_df)\n",
        "predicted_rating.show()\n",
        "spark.stop()                                           # Stop Spark session"
      ],
      "metadata": {
        "colab": {
          "base_uri": "https://localhost:8080/"
        },
        "id": "L3U81_FhYFUv",
        "outputId": "4150b105-0add-499b-ba03-883577b1f174"
      },
      "execution_count": null,
      "outputs": [
        {
          "output_type": "stream",
          "name": "stdout",
          "text": [
            "+------+-------+------+---------+\n",
            "|userId|movieId|rating|timestamp|\n",
            "+------+-------+------+---------+\n",
            "|   196|    242|     3|881250949|\n",
            "|   186|    302|     3|891717742|\n",
            "|    22|    377|     1|878887116|\n",
            "|   244|     51|     2|880606923|\n",
            "|   166|    346|     1|886397596|\n",
            "+------+-------+------+---------+\n",
            "only showing top 5 rows\n",
            "\n",
            "+------+-------------------------------------------------------------------------------------------------------------------------------------------------------------------------------------------+\n",
            "|userId|recommendations                                                                                                                                                                            |\n",
            "+------+-------------------------------------------------------------------------------------------------------------------------------------------------------------------------------------------+\n",
            "|1     |[{1449, 5.023085}, {1463, 4.9531827}, {1643, 4.9056563}, {119, 4.834293}, {1467, 4.8269553}, {408, 4.8123918}, {169, 4.7962985}, {114, 4.781218}, {12, 4.7205215}, {50, 4.6927667}]        |\n",
            "|3     |[{1368, 4.28519}, {320, 4.172324}, {1589, 4.0952544}, {1607, 4.0857663}, {56, 4.072507}, {1143, 4.0694895}, {1664, 4.057825}, {42, 4.02918}, {902, 4.022801}, {646, 4.017771}]             |\n",
            "|5     |[{1500, 4.6415744}, {114, 4.616686}, {793, 4.584881}, {169, 4.573547}, {1367, 4.5434103}, {851, 4.535371}, {1656, 4.4838853}, {408, 4.4797964}, {613, 4.3239036}, {1388, 4.312038}]        |\n",
            "|6     |[{1643, 5.371874}, {1463, 4.6261396}, {1449, 4.567601}, {1512, 4.54187}, {474, 4.40718}, {1398, 4.384975}, {1367, 4.3749895}, {1203, 4.352187}, {483, 4.302423}, {641, 4.301203}]          |\n",
            "|9     |[{1463, 5.6236253}, {1169, 5.116048}, {1467, 5.089936}, {1398, 5.072481}, {1642, 4.9943175}, {1450, 4.9927177}, {1651, 4.9725904}, {1650, 4.9725904}, {1645, 4.9725904}, {1636, 4.9725904}]|\n",
            "+------+-------------------------------------------------------------------------------------------------------------------------------------------------------------------------------------------+\n",
            "only showing top 5 rows\n",
            "\n",
            "+-------+----------------------------------------------------------------------------------------------------------------------------------------------------------------------------------+\n",
            "|movieId|recommendations                                                                                                                                                                   |\n",
            "+-------+----------------------------------------------------------------------------------------------------------------------------------------------------------------------------------+\n",
            "|1      |[{810, 5.0863757}, {849, 4.8984547}, {688, 4.883964}, {939, 4.8472314}, {357, 4.7694573}, {850, 4.7258306}, {477, 4.709781}, {152, 4.7004395}, {507, 4.6963377}, {330, 4.6646237}]|\n",
            "|3      |[{636, 4.4942236}, {628, 4.4477463}, {546, 4.374531}, {507, 4.284242}, {472, 4.2650385}, {261, 4.2488885}, {427, 4.220378}, {260, 4.1692657}, {300, 4.101335}, {519, 4.1002355}]  |\n",
            "|5      |[{507, 4.8912854}, {688, 4.8148246}, {907, 4.5881624}, {849, 4.5815716}, {810, 4.498507}, {427, 4.4934535}, {477, 4.465136}, {628, 4.444733}, {939, 4.316101}, {330, 4.3156323}]  |\n",
            "|6      |[{511, 5.0421352}, {174, 4.797828}, {240, 4.7912188}, {341, 4.607574}, {770, 4.578935}, {270, 4.5232906}, {691, 4.517733}, {362, 4.4693646}, {440, 4.4491034}, {628, 4.4439683}]  |\n",
            "|9      |[{928, 4.8772616}, {252, 4.8555636}, {310, 4.7898326}, {765, 4.788375}, {686, 4.7756524}, {173, 4.7226663}, {688, 4.694734}, {583, 4.688114}, {770, 4.6782928}, {270, 4.6718493}] |\n",
            "+-------+----------------------------------------------------------------------------------------------------------------------------------------------------------------------------------+\n",
            "only showing top 5 rows\n",
            "\n",
            "+------+-------+----------+\n",
            "|userId|movieId|prediction|\n",
            "+------+-------+----------+\n",
            "|     1|     10|  3.834196|\n",
            "+------+-------+----------+\n",
            "\n"
          ]
        }
      ]
    }
  ]
}